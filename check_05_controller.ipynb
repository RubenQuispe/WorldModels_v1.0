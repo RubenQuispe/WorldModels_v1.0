{
 "cells": [
  {
   "cell_type": "code",
   "execution_count": 1,
   "metadata": {},
   "outputs": [
    {
     "name": "stderr",
     "output_type": "stream",
     "text": [
      "Using TensorFlow backend.\n"
     ]
    }
   ],
   "source": [
    "%matplotlib inline\n",
    "import numpy as np\n",
    "from rnn.arch import RNN\n",
    "from vae.arch import VAE\n",
    "import matplotlib.pyplot as plt\n",
    "from gym.utils import seeding\n",
    "from IPython import display\n",
    "import time\n",
    "from model import make_model\n",
    "\n",
    "import config\n",
    "\n",
    "\n",
    "np.set_printoptions(precision=4, suppress = True)"
   ]
  },
  {
   "cell_type": "code",
   "execution_count": 2,
   "metadata": {},
   "outputs": [],
   "source": [
    "def get_mixture_coef(z_pred):\n",
    "\n",
    "    log_pi, mu, log_sigma = np.split(z_pred, 3, 1)\n",
    "    log_pi = log_pi - np.log(np.sum(np.exp(log_pi), axis = 1, keepdims = True))\n",
    "\n",
    "    return log_pi, mu, log_sigma\n",
    "\n",
    "def get_pi_idx(x, pdf):\n",
    "    # samples from a categorial distribution\n",
    "    N = pdf.size\n",
    "    accumulate = 0\n",
    "    for i in range(0, N):\n",
    "        accumulate += pdf[i]\n",
    "        if (accumulate >= x):\n",
    "            return i\n",
    "    random_value = np.random.randint(N)\n",
    "    #print('error with sampling ensemble, returning random', random_value)\n",
    "    return random_value\n",
    "\n",
    "def sample_z(mu, log_sigma):\n",
    "    z =  mu + (np.exp(log_sigma)) * np.random.randn(*log_sigma.shape) \n",
    "    return z\n",
    "\n",
    "\n",
    "def get_z_from_rnn_output(y_pred):\n",
    "    HIDDEN_UNITS = 256\n",
    "    GAUSSIAN_MIXTURES = 5\n",
    "    Z_DIM = 32\n",
    "    d = GAUSSIAN_MIXTURES * Z_DIM\n",
    "\n",
    "    z_pred = y_pred[:(3*d)]\n",
    "    rew_pred = y_pred[-1]\n",
    "\n",
    "    z_pred = np.reshape(z_pred, [-1, GAUSSIAN_MIXTURES * 3])\n",
    "\n",
    "    log_pi, mu, log_sigma = get_mixture_coef(z_pred)\n",
    "\n",
    "    chosen_log_pi = np.zeros(Z_DIM)\n",
    "    chosen_mu = np.zeros(Z_DIM)\n",
    "    chosen_log_sigma = np.zeros(Z_DIM)\n",
    "\n",
    "    # adjust temperatures\n",
    "    logmix2 = np.copy(log_pi)\n",
    "    logmix2 -= logmix2.max()\n",
    "    logmix2 = np.exp(logmix2)\n",
    "    logmix2 /= logmix2.sum(axis=1).reshape(Z_DIM, 1)\n",
    "\n",
    "\n",
    "    for j in range(Z_DIM):\n",
    "        idx = get_pi_idx(np.random.rand(), logmix2[j])\n",
    "        chosen_log_pi[j] = idx\n",
    "        chosen_mu[j] = mu[j, idx]\n",
    "        chosen_log_sigma[j] = log_sigma[j,idx]\n",
    "\n",
    "    next_z = sample_z(chosen_mu, chosen_log_sigma)\n",
    "\n",
    "    # print(next_z)\n",
    "    # print(rew_pred)\n",
    "    if rew_pred > 0:\n",
    "        next_reward = 1\n",
    "    else:\n",
    "        next_reward = 0\n",
    "        \n",
    "    return next_z, next_reward, chosen_mu"
   ]
  },
  {
   "cell_type": "code",
   "execution_count": 3,
   "metadata": {},
   "outputs": [],
   "source": [
    "model = make_model()\n",
    "model.make_env('car_racing')"
   ]
  },
  {
   "cell_type": "code",
   "execution_count": 4,
   "metadata": {},
   "outputs": [
    {
     "name": "stdout",
     "output_type": "stream",
     "text": [
      "loading file ./controller/car_racing.cma.4.12.best.json125\n"
     ]
    }
   ],
   "source": [
    "model.load_model('./controller/car_racing.cma.4.12.best.json125')"
   ]
  },
  {
   "cell_type": "code",
   "execution_count": 5,
   "metadata": {},
   "outputs": [],
   "source": [
    "z_weight = model.weight[0][:32,2]\n",
    "h_weight = model.weight[0][32:,2]"
   ]
  },
  {
   "cell_type": "code",
   "execution_count": 6,
   "metadata": {},
   "outputs": [
    {
     "data": {
      "text/plain": [
       "array([ 0.0889, -0.8851,  0.4943,  0.9015, -0.0661,  0.4676, -0.4397,\n",
       "       -0.6314,  0.933 ,  0.1831,  0.5784, -0.5514, -0.0216,  0.2701,\n",
       "        0.3181,  0.5784, -0.6277, -0.21  ,  0.2918,  0.7946,  0.2159,\n",
       "       -0.6404, -0.7126,  0.3232,  0.135 , -0.183 , -0.3667,  0.3491,\n",
       "        0.5804,  0.9754,  0.6231, -0.38  ])"
      ]
     },
     "execution_count": 6,
     "metadata": {},
     "output_type": "execute_result"
    }
   ],
   "source": [
    "z_weight"
   ]
  },
  {
   "cell_type": "code",
   "execution_count": 7,
   "metadata": {},
   "outputs": [
    {
     "data": {
      "text/plain": [
       "array([ 0.0671, -0.0496,  0.7935, -0.3483,  0.5658, -0.7423,  0.0274,\n",
       "        0.6239, -0.1438, -0.823 ,  0.0786, -0.0584,  0.1492, -0.428 ,\n",
       "       -0.8192,  0.3237, -0.5152, -0.1221, -0.9435, -0.3296, -0.3302,\n",
       "       -0.4333, -1.3902, -0.5344,  0.4736, -0.2117, -0.5429,  0.657 ,\n",
       "        2.237 , -1.0796,  0.0612,  0.4551,  0.0522,  0.5383, -1.2528,\n",
       "       -0.0576, -0.6916,  0.7051,  0.3191,  0.2177, -0.9006,  1.096 ,\n",
       "       -0.7571,  0.45  ,  0.143 , -0.41  ,  0.3675, -1.0409,  0.8376,\n",
       "       -0.1021,  0.8515,  0.7997,  0.7492,  0.1155,  0.4803, -0.0591,\n",
       "       -0.0291, -0.3584, -0.678 , -0.0811, -1.0352,  0.2375, -1.0032,\n",
       "        0.5743,  0.2797, -1.4168,  1.3076, -0.1322,  0.235 ,  0.0532,\n",
       "        1.1113, -0.3893, -0.1278,  0.5242,  0.4399,  0.1248, -0.5886,\n",
       "       -0.026 , -0.6912,  0.1948, -0.2013, -0.8763,  1.0371,  0.5878,\n",
       "       -0.4661,  1.1388, -0.2149, -0.6456,  0.0331,  0.907 , -0.3712,\n",
       "        0.052 , -0.0412,  0.1184, -0.2248, -0.2423,  0.0394, -0.333 ,\n",
       "        0.0387,  0.0726, -0.1072, -0.1827,  0.3703,  0.6166,  0.2733,\n",
       "       -0.1596, -0.8874, -0.0814, -0.6993, -0.4873, -0.253 ,  1.1303,\n",
       "        0.0918, -0.0941,  0.3675,  1.2246,  0.0787, -0.0487, -0.0664,\n",
       "       -0.3186, -0.3576,  0.4483, -0.4217, -0.1331,  0.4011,  0.1697,\n",
       "        0.2593, -0.1871,  0.642 ,  0.9769, -0.5185, -0.2994,  0.2812,\n",
       "       -0.3176, -0.444 ,  0.253 , -0.7791,  0.3422, -0.1661,  0.0557,\n",
       "       -0.6089, -0.0426,  0.5964,  0.1242, -0.3563,  0.5274,  0.3075,\n",
       "        0.9087, -1.3524,  0.8869, -0.2646,  0.3893,  0.4914, -0.2433,\n",
       "       -1.2379, -1.2556, -0.3533, -0.6137, -1.3667,  0.0014, -0.0136,\n",
       "       -0.1797, -0.7297, -0.276 , -0.0305, -0.3299,  0.2682, -0.0121,\n",
       "       -0.4384, -0.3151, -0.1411,  0.0577,  1.0544,  0.1097,  0.8254,\n",
       "        0.0046,  0.9356,  0.35  , -0.4635, -0.4053,  0.338 ,  0.4748,\n",
       "       -0.5652,  0.8385, -0.2214,  1.5883,  0.3977, -0.0977, -0.4587,\n",
       "        0.6839,  0.1463, -0.1706, -0.1707, -0.4004, -0.2529, -0.6036,\n",
       "        0.0013, -0.4474, -0.3444,  0.1401,  0.3263,  1.086 ,  0.0411,\n",
       "        0.7103,  0.1031,  0.2025,  0.3137, -0.2284,  1.0483, -0.3339,\n",
       "        0.1834, -0.5733,  0.1334, -1.3789,  0.1775, -0.45  , -0.1206,\n",
       "        0.1548,  0.9203,  0.6551, -0.8093,  1.0821, -1.1718,  0.3577,\n",
       "       -0.9617, -0.093 , -0.1374, -0.7954, -0.5301,  0.0927,  0.297 ,\n",
       "       -0.4105, -0.773 , -0.3531,  0.3535, -0.1303, -0.3022, -0.3577,\n",
       "       -0.6321,  0.2417, -0.113 ,  0.2235, -0.6916,  0.0421, -0.1019,\n",
       "        0.103 , -0.2443,  0.1298, -0.3987,  0.1351,  0.5899,  0.3319,\n",
       "       -0.5351, -0.3308,  0.1238, -0.8785])"
      ]
     },
     "execution_count": 7,
     "metadata": {},
     "output_type": "execute_result"
    }
   ],
   "source": [
    "h_weight"
   ]
  },
  {
   "cell_type": "code",
   "execution_count": 8,
   "metadata": {},
   "outputs": [],
   "source": [
    "rollout_files = np.load('./data/rollout/23394598.npz') \n",
    "obs_file = rollout_files['obs']\n",
    "action_file = rollout_files['action']\n",
    "reward_file = rollout_files['reward']\n",
    "done_file = rollout_files['done']\n",
    "\n",
    "series_files = np.load('./data/series/23008920.npz') \n",
    "mu_file = series_files['mu']\n",
    "log_var_file = series_files['log_var']\n",
    "action_2_file = series_files['action']\n",
    "reward_2_file = series_files['reward']\n",
    "done_2_file = series_files['done']\n"
   ]
  },
  {
   "cell_type": "code",
   "execution_count": 9,
   "metadata": {},
   "outputs": [],
   "source": [
    "obs = obs_file[0]\n",
    "action = [0,0,0]\n",
    "reward = 0\n",
    "model.reset()"
   ]
  },
  {
   "cell_type": "code",
   "execution_count": 10,
   "metadata": {},
   "outputs": [
    {
     "data": {
      "text/plain": [
       "<matplotlib.image.AxesImage at 0x7f53202d2fd0>"
      ]
     },
     "execution_count": 10,
     "metadata": {},
     "output_type": "execute_result"
    },
    {
     "data": {
      "image/png": "[encoded data removed]",
      "text/plain": [
       "<Figure size 432x288 with 1 Axes>"
      ]
     },
     "metadata": {},
     "output_type": "display_data"
    }
   ],
   "source": [
    "plt.imshow(obs)"
   ]
  },
  {
   "cell_type": "code",
   "execution_count": 11,
   "metadata": {},
   "outputs": [],
   "source": [
    "vae_encoded_obs = model.update(obs, 0)"
   ]
  },
  {
   "cell_type": "code",
   "execution_count": 12,
   "metadata": {},
   "outputs": [
    {
     "data": {
      "text/plain": [
       "array([-0.8623, -0.8155,  0.1048, -0.947 ,  1.1862,  0.2677,  0.2953,\n",
       "        0.5872,  0.0701,  2.2902,  0.7728,  0.9659,  0.6605,  0.165 ,\n",
       "        0.7599, -0.3551, -0.9889, -0.2443, -1.1726, -0.8551,  2.0534,\n",
       "       -0.2162,  0.9544, -1.3567, -0.1726,  0.9121, -2.0627, -1.1991,\n",
       "       -0.7927, -1.3719, -0.9942, -0.4316], dtype=float32)"
      ]
     },
     "execution_count": 12,
     "metadata": {},
     "output_type": "execute_result"
    }
   ],
   "source": [
    "vae_encoded_obs"
   ]
  },
  {
   "cell_type": "code",
   "execution_count": 13,
   "metadata": {},
   "outputs": [],
   "source": [
    "recon = model.vae.decoder.predict(np.array([vae_encoded_obs]))[0]"
   ]
  },
  {
   "cell_type": "code",
   "execution_count": 14,
   "metadata": {},
   "outputs": [
    {
     "data": {
      "text/plain": [
       "<matplotlib.image.AxesImage at 0x7f53201680f0>"
      ]
     },
     "execution_count": 14,
     "metadata": {},
     "output_type": "execute_result"
    },
    {
     "data": {
      "image/png": "[encoded data removed]",
      "text/plain": [
       "<Figure size 432x288 with 1 Axes>"
      ]
     },
     "metadata": {},
     "output_type": "display_data"
    }
   ],
   "source": [
    "plt.imshow(recon)"
   ]
  },
  {
   "cell_type": "code",
   "execution_count": 15,
   "metadata": {},
   "outputs": [],
   "source": [
    "# obs = obs_file[0]\n",
    "action = [0,1,0]\n",
    "reward = 0\n",
    "model.reset()\n",
    "total_reward = 0\n",
    "total_pseudo_reward = 0\n",
    "t = 0\n",
    "\n",
    "obs = model.env.reset()\n",
    "\n",
    "model.env.render('rgb_array')\n",
    "\n",
    "actions0 = []\n",
    "actions1 = []\n",
    "actions2 = []"
   ]
  },
  {
   "cell_type": "code",
   "execution_count": 16,
   "metadata": {},
   "outputs": [
    {
     "data": {
      "image/png": "[encoded data removed]",
      "text/plain": [
       "<Figure size 432x288 with 1 Axes>"
      ]
     },
     "metadata": {},
     "output_type": "display_data"
    },
    {
     "name": "stdout",
     "output_type": "stream",
     "text": [
      "611.912658227833\n",
      "230\n",
      "1190\n",
      "[-0.9832  1.      0.0004]\n"
     ]
    },
    {
     "ename": "KeyboardInterrupt",
     "evalue": "",
     "output_type": "error",
     "traceback": [
      "\u001b[0;31m---------------------------------------------------------------------------\u001b[0m",
      "\u001b[0;31mKeyboardInterrupt\u001b[0m                         Traceback (most recent call last)",
      "\u001b[0;32m<ipython-input-16-94178d3fb568>\u001b[0m in \u001b[0;36m<module>\u001b[0;34m()\u001b[0m\n\u001b[1;32m     33\u001b[0m     \u001b[0mnext_z\u001b[0m\u001b[0;34m,\u001b[0m \u001b[0mnext_reward\u001b[0m\u001b[0;34m,\u001b[0m \u001b[0mchosen_mu\u001b[0m \u001b[0;34m=\u001b[0m \u001b[0mget_z_from_rnn_output\u001b[0m\u001b[0;34m(\u001b[0m\u001b[0my_pred\u001b[0m\u001b[0;34m)\u001b[0m\u001b[0;34m\u001b[0m\u001b[0;34m\u001b[0m\u001b[0m\n\u001b[1;32m     34\u001b[0m \u001b[0;34m\u001b[0m\u001b[0m\n\u001b[0;32m---> 35\u001b[0;31m     \u001b[0mrecon_next_z\u001b[0m \u001b[0;34m=\u001b[0m \u001b[0mmodel\u001b[0m\u001b[0;34m.\u001b[0m\u001b[0mvae\u001b[0m\u001b[0;34m.\u001b[0m\u001b[0mdecoder\u001b[0m\u001b[0;34m.\u001b[0m\u001b[0mpredict\u001b[0m\u001b[0;34m(\u001b[0m\u001b[0mnp\u001b[0m\u001b[0;34m.\u001b[0m\u001b[0marray\u001b[0m\u001b[0;34m(\u001b[0m\u001b[0;34m[\u001b[0m\u001b[0mnext_z\u001b[0m\u001b[0;34m]\u001b[0m\u001b[0;34m)\u001b[0m\u001b[0;34m)\u001b[0m\u001b[0;34m[\u001b[0m\u001b[0;36m0\u001b[0m\u001b[0;34m]\u001b[0m\u001b[0;34m\u001b[0m\u001b[0;34m\u001b[0m\u001b[0m\n\u001b[0m\u001b[1;32m     36\u001b[0m \u001b[0;34m\u001b[0m\u001b[0m\n\u001b[1;32m     37\u001b[0m     \u001b[0mcontroller_obs\u001b[0m \u001b[0;34m=\u001b[0m \u001b[0mnp\u001b[0m\u001b[0;34m.\u001b[0m\u001b[0mconcatenate\u001b[0m\u001b[0;34m(\u001b[0m\u001b[0;34m[\u001b[0m\u001b[0mvae_encoded_obs\u001b[0m\u001b[0;34m,\u001b[0m\u001b[0mmodel\u001b[0m\u001b[0;34m.\u001b[0m\u001b[0mhidden\u001b[0m\u001b[0;34m]\u001b[0m\u001b[0;34m)\u001b[0m\u001b[0;34m\u001b[0m\u001b[0;34m\u001b[0m\u001b[0m\n",
      "\u001b[0;32m~/anaconda3/envs/worldmodels/lib/python3.6/site-packages/keras/engine/training.py\u001b[0m in \u001b[0;36mpredict\u001b[0;34m(self, x, batch_size, verbose, steps, callbacks, max_queue_size, workers, use_multiprocessing)\u001b[0m\n\u001b[1;32m   1460\u001b[0m                                             \u001b[0mverbose\u001b[0m\u001b[0;34m=\u001b[0m\u001b[0mverbose\u001b[0m\u001b[0;34m,\u001b[0m\u001b[0;34m\u001b[0m\u001b[0;34m\u001b[0m\u001b[0m\n\u001b[1;32m   1461\u001b[0m                                             \u001b[0msteps\u001b[0m\u001b[0;34m=\u001b[0m\u001b[0msteps\u001b[0m\u001b[0;34m,\u001b[0m\u001b[0;34m\u001b[0m\u001b[0;34m\u001b[0m\u001b[0m\n\u001b[0;32m-> 1462\u001b[0;31m                                             callbacks=callbacks)\n\u001b[0m\u001b[1;32m   1463\u001b[0m \u001b[0;34m\u001b[0m\u001b[0m\n\u001b[1;32m   1464\u001b[0m     def train_on_batch(self, x, y,\n",
      "\u001b[0;32m~/anaconda3/envs/worldmodels/lib/python3.6/site-packages/keras/engine/training_arrays.py\u001b[0m in \u001b[0;36mpredict_loop\u001b[0;34m(model, f, ins, batch_size, verbose, steps, callbacks)\u001b[0m\n\u001b[1;32m    322\u001b[0m             \u001b[0mbatch_logs\u001b[0m \u001b[0;34m=\u001b[0m \u001b[0;34m{\u001b[0m\u001b[0;34m'batch'\u001b[0m\u001b[0;34m:\u001b[0m \u001b[0mbatch_index\u001b[0m\u001b[0;34m,\u001b[0m \u001b[0;34m'size'\u001b[0m\u001b[0;34m:\u001b[0m \u001b[0mlen\u001b[0m\u001b[0;34m(\u001b[0m\u001b[0mbatch_ids\u001b[0m\u001b[0;34m)\u001b[0m\u001b[0;34m}\u001b[0m\u001b[0;34m\u001b[0m\u001b[0;34m\u001b[0m\u001b[0m\n\u001b[1;32m    323\u001b[0m             \u001b[0mcallbacks\u001b[0m\u001b[0;34m.\u001b[0m\u001b[0m_call_batch_hook\u001b[0m\u001b[0;34m(\u001b[0m\u001b[0;34m'predict'\u001b[0m\u001b[0;34m,\u001b[0m \u001b[0;34m'begin'\u001b[0m\u001b[0;34m,\u001b[0m \u001b[0mbatch_index\u001b[0m\u001b[0;34m,\u001b[0m \u001b[0mbatch_logs\u001b[0m\u001b[0;34m)\u001b[0m\u001b[0;34m\u001b[0m\u001b[0;34m\u001b[0m\u001b[0m\n\u001b[0;32m--> 324\u001b[0;31m             \u001b[0mbatch_outs\u001b[0m \u001b[0;34m=\u001b[0m \u001b[0mf\u001b[0m\u001b[0;34m(\u001b[0m\u001b[0mins_batch\u001b[0m\u001b[0;34m)\u001b[0m\u001b[0;34m\u001b[0m\u001b[0;34m\u001b[0m\u001b[0m\n\u001b[0m\u001b[1;32m    325\u001b[0m             \u001b[0mbatch_outs\u001b[0m \u001b[0;34m=\u001b[0m \u001b[0mto_list\u001b[0m\u001b[0;34m(\u001b[0m\u001b[0mbatch_outs\u001b[0m\u001b[0;34m)\u001b[0m\u001b[0;34m\u001b[0m\u001b[0;34m\u001b[0m\u001b[0m\n\u001b[1;32m    326\u001b[0m             \u001b[0;32mif\u001b[0m \u001b[0mbatch_index\u001b[0m \u001b[0;34m==\u001b[0m \u001b[0;36m0\u001b[0m\u001b[0;34m:\u001b[0m\u001b[0;34m\u001b[0m\u001b[0;34m\u001b[0m\u001b[0m\n",
      "\u001b[0;32m~/anaconda3/envs/worldmodels/lib/python3.6/site-packages/tensorflow_core/python/keras/backend.py\u001b[0m in \u001b[0;36m__call__\u001b[0;34m(self, inputs)\u001b[0m\n\u001b[1;32m   3725\u001b[0m         \u001b[0mvalue\u001b[0m \u001b[0;34m=\u001b[0m \u001b[0mmath_ops\u001b[0m\u001b[0;34m.\u001b[0m\u001b[0mcast\u001b[0m\u001b[0;34m(\u001b[0m\u001b[0mvalue\u001b[0m\u001b[0;34m,\u001b[0m \u001b[0mtensor\u001b[0m\u001b[0;34m.\u001b[0m\u001b[0mdtype\u001b[0m\u001b[0;34m)\u001b[0m\u001b[0;34m\u001b[0m\u001b[0;34m\u001b[0m\u001b[0m\n\u001b[1;32m   3726\u001b[0m       \u001b[0mconverted_inputs\u001b[0m\u001b[0;34m.\u001b[0m\u001b[0mappend\u001b[0m\u001b[0;34m(\u001b[0m\u001b[0mvalue\u001b[0m\u001b[0;34m)\u001b[0m\u001b[0;34m\u001b[0m\u001b[0;34m\u001b[0m\u001b[0m\n\u001b[0;32m-> 3727\u001b[0;31m     \u001b[0moutputs\u001b[0m \u001b[0;34m=\u001b[0m \u001b[0mself\u001b[0m\u001b[0;34m.\u001b[0m\u001b[0m_graph_fn\u001b[0m\u001b[0;34m(\u001b[0m\u001b[0;34m*\u001b[0m\u001b[0mconverted_inputs\u001b[0m\u001b[0;34m)\u001b[0m\u001b[0;34m\u001b[0m\u001b[0;34m\u001b[0m\u001b[0m\n\u001b[0m\u001b[1;32m   3728\u001b[0m \u001b[0;34m\u001b[0m\u001b[0m\n\u001b[1;32m   3729\u001b[0m     \u001b[0;31m# EagerTensor.numpy() will often make a copy to ensure memory safety.\u001b[0m\u001b[0;34m\u001b[0m\u001b[0;34m\u001b[0m\u001b[0;34m\u001b[0m\u001b[0m\n",
      "\u001b[0;32m~/anaconda3/envs/worldmodels/lib/python3.6/site-packages/tensorflow_core/python/eager/function.py\u001b[0m in \u001b[0;36m__call__\u001b[0;34m(self, *args, **kwargs)\u001b[0m\n\u001b[1;32m   1549\u001b[0m       \u001b[0mTypeError\u001b[0m\u001b[0;34m:\u001b[0m \u001b[0mFor\u001b[0m \u001b[0minvalid\u001b[0m \u001b[0mpositional\u001b[0m\u001b[0;34m/\u001b[0m\u001b[0mkeyword\u001b[0m \u001b[0margument\u001b[0m \u001b[0mcombinations\u001b[0m\u001b[0;34m.\u001b[0m\u001b[0;34m\u001b[0m\u001b[0;34m\u001b[0m\u001b[0m\n\u001b[1;32m   1550\u001b[0m     \"\"\"\n\u001b[0;32m-> 1551\u001b[0;31m     \u001b[0;32mreturn\u001b[0m \u001b[0mself\u001b[0m\u001b[0;34m.\u001b[0m\u001b[0m_call_impl\u001b[0m\u001b[0;34m(\u001b[0m\u001b[0margs\u001b[0m\u001b[0;34m,\u001b[0m \u001b[0mkwargs\u001b[0m\u001b[0;34m)\u001b[0m\u001b[0;34m\u001b[0m\u001b[0;34m\u001b[0m\u001b[0m\n\u001b[0m\u001b[1;32m   1552\u001b[0m \u001b[0;34m\u001b[0m\u001b[0m\n\u001b[1;32m   1553\u001b[0m   \u001b[0;32mdef\u001b[0m \u001b[0m_call_impl\u001b[0m\u001b[0;34m(\u001b[0m\u001b[0mself\u001b[0m\u001b[0;34m,\u001b[0m \u001b[0margs\u001b[0m\u001b[0;34m,\u001b[0m \u001b[0mkwargs\u001b[0m\u001b[0;34m,\u001b[0m \u001b[0mcancellation_manager\u001b[0m\u001b[0;34m=\u001b[0m\u001b[0;32mNone\u001b[0m\u001b[0;34m)\u001b[0m\u001b[0;34m:\u001b[0m\u001b[0;34m\u001b[0m\u001b[0;34m\u001b[0m\u001b[0m\n",
      "\u001b[0;32m~/anaconda3/envs/worldmodels/lib/python3.6/site-packages/tensorflow_core/python/eager/function.py\u001b[0m in \u001b[0;36m_call_impl\u001b[0;34m(self, args, kwargs, cancellation_manager)\u001b[0m\n\u001b[1;32m   1589\u001b[0m       raise TypeError(\"Keyword arguments {} unknown. Expected {}.\".format(\n\u001b[1;32m   1590\u001b[0m           list(kwargs.keys()), list(self._arg_keywords)))\n\u001b[0;32m-> 1591\u001b[0;31m     \u001b[0;32mreturn\u001b[0m \u001b[0mself\u001b[0m\u001b[0;34m.\u001b[0m\u001b[0m_call_flat\u001b[0m\u001b[0;34m(\u001b[0m\u001b[0margs\u001b[0m\u001b[0;34m,\u001b[0m \u001b[0mself\u001b[0m\u001b[0;34m.\u001b[0m\u001b[0mcaptured_inputs\u001b[0m\u001b[0;34m,\u001b[0m \u001b[0mcancellation_manager\u001b[0m\u001b[0;34m)\u001b[0m\u001b[0;34m\u001b[0m\u001b[0;34m\u001b[0m\u001b[0m\n\u001b[0m\u001b[1;32m   1592\u001b[0m \u001b[0;34m\u001b[0m\u001b[0m\n\u001b[1;32m   1593\u001b[0m   \u001b[0;32mdef\u001b[0m \u001b[0m_filtered_call\u001b[0m\u001b[0;34m(\u001b[0m\u001b[0mself\u001b[0m\u001b[0;34m,\u001b[0m \u001b[0margs\u001b[0m\u001b[0;34m,\u001b[0m \u001b[0mkwargs\u001b[0m\u001b[0;34m)\u001b[0m\u001b[0;34m:\u001b[0m\u001b[0;34m\u001b[0m\u001b[0;34m\u001b[0m\u001b[0m\n",
      "\u001b[0;32m~/anaconda3/envs/worldmodels/lib/python3.6/site-packages/tensorflow_core/python/eager/function.py\u001b[0m in \u001b[0;36m_call_flat\u001b[0;34m(self, args, captured_inputs, cancellation_manager)\u001b[0m\n\u001b[1;32m   1690\u001b[0m       \u001b[0;31m# No tape is watching; skip to running the function.\u001b[0m\u001b[0;34m\u001b[0m\u001b[0;34m\u001b[0m\u001b[0;34m\u001b[0m\u001b[0m\n\u001b[1;32m   1691\u001b[0m       return self._build_call_outputs(self._inference_function.call(\n\u001b[0;32m-> 1692\u001b[0;31m           ctx, args, cancellation_manager=cancellation_manager))\n\u001b[0m\u001b[1;32m   1693\u001b[0m     forward_backward = self._select_forward_and_backward_functions(\n\u001b[1;32m   1694\u001b[0m         \u001b[0margs\u001b[0m\u001b[0;34m,\u001b[0m\u001b[0;34m\u001b[0m\u001b[0;34m\u001b[0m\u001b[0m\n",
      "\u001b[0;32m~/anaconda3/envs/worldmodels/lib/python3.6/site-packages/tensorflow_core/python/eager/function.py\u001b[0m in \u001b[0;36mcall\u001b[0;34m(self, ctx, args, cancellation_manager)\u001b[0m\n\u001b[1;32m    543\u001b[0m               \u001b[0minputs\u001b[0m\u001b[0;34m=\u001b[0m\u001b[0margs\u001b[0m\u001b[0;34m,\u001b[0m\u001b[0;34m\u001b[0m\u001b[0;34m\u001b[0m\u001b[0m\n\u001b[1;32m    544\u001b[0m               \u001b[0mattrs\u001b[0m\u001b[0;34m=\u001b[0m\u001b[0;34m(\u001b[0m\u001b[0;34m\"executor_type\"\u001b[0m\u001b[0;34m,\u001b[0m \u001b[0mexecutor_type\u001b[0m\u001b[0;34m,\u001b[0m \u001b[0;34m\"config_proto\"\u001b[0m\u001b[0;34m,\u001b[0m \u001b[0mconfig\u001b[0m\u001b[0;34m)\u001b[0m\u001b[0;34m,\u001b[0m\u001b[0;34m\u001b[0m\u001b[0;34m\u001b[0m\u001b[0m\n\u001b[0;32m--> 545\u001b[0;31m               ctx=ctx)\n\u001b[0m\u001b[1;32m    546\u001b[0m         \u001b[0;32melse\u001b[0m\u001b[0;34m:\u001b[0m\u001b[0;34m\u001b[0m\u001b[0;34m\u001b[0m\u001b[0m\n\u001b[1;32m    547\u001b[0m           outputs = execute.execute_with_cancellation(\n",
      "\u001b[0;32m~/anaconda3/envs/worldmodels/lib/python3.6/site-packages/tensorflow_core/python/eager/execute.py\u001b[0m in \u001b[0;36mquick_execute\u001b[0;34m(op_name, num_outputs, inputs, attrs, ctx, name)\u001b[0m\n\u001b[1;32m     59\u001b[0m     tensors = pywrap_tensorflow.TFE_Py_Execute(ctx._handle, device_name,\n\u001b[1;32m     60\u001b[0m                                                \u001b[0mop_name\u001b[0m\u001b[0;34m,\u001b[0m \u001b[0minputs\u001b[0m\u001b[0;34m,\u001b[0m \u001b[0mattrs\u001b[0m\u001b[0;34m,\u001b[0m\u001b[0;34m\u001b[0m\u001b[0;34m\u001b[0m\u001b[0m\n\u001b[0;32m---> 61\u001b[0;31m                                                num_outputs)\n\u001b[0m\u001b[1;32m     62\u001b[0m   \u001b[0;32mexcept\u001b[0m \u001b[0mcore\u001b[0m\u001b[0;34m.\u001b[0m\u001b[0m_NotOkStatusException\u001b[0m \u001b[0;32mas\u001b[0m \u001b[0me\u001b[0m\u001b[0;34m:\u001b[0m\u001b[0;34m\u001b[0m\u001b[0;34m\u001b[0m\u001b[0m\n\u001b[1;32m     63\u001b[0m     \u001b[0;32mif\u001b[0m \u001b[0mname\u001b[0m \u001b[0;32mis\u001b[0m \u001b[0;32mnot\u001b[0m \u001b[0;32mNone\u001b[0m\u001b[0;34m:\u001b[0m\u001b[0;34m\u001b[0m\u001b[0;34m\u001b[0m\u001b[0m\n",
      "\u001b[0;31mKeyboardInterrupt\u001b[0m: "
     ]
    },
    {
     "data": {
      "image/png": "[encoded data removed]",
      "text/plain": [
       "<Figure size 432x288 with 1 Axes>"
      ]
     },
     "metadata": {},
     "output_type": "display_data"
    }
   ],
   "source": [
    "while (1):\n",
    "   \n",
    "    ######\n",
    "\n",
    "    obs = config.adjust_obs(obs)\n",
    "    reward = config.adjust_reward(reward)\n",
    "    \n",
    "    total_pseudo_reward+= reward\n",
    "\n",
    "    vae_encoded_obs = model.update(obs, 0)\n",
    "\n",
    "    recon = model.vae.decoder.predict(np.array([vae_encoded_obs]))[0]\n",
    "    \n",
    "#     input_to_rnn = [np.array([[np.concatenate([vae_encoded_obs, action, [reward]])]]),np.zeros(shape=(1,256)),np.zeros(shape=(1,256))]\n",
    "#     input_to_rnn = [np.array([[np.concatenate([np.zeros(32), action, [reward]])]]),np.array([model.hidden]),np.array([model.cell_values])]\n",
    "\n",
    "\n",
    "    input_to_rnn = [np.array([[np.concatenate([vae_encoded_obs, action, [reward]])]]),np.array([model.hidden]),np.array([model.cell_values])]\n",
    "\n",
    "    #     print(np.array([[np.concatenate([vae_encoded_obs, action, [reward]])]]).shape)\n",
    "    #     print(np.array([model.hidden]).shape)\n",
    "    #     print(np.array([model.cell_values]).shape)\n",
    "\n",
    "    out = model.rnn.forward.predict(input_to_rnn)\n",
    "\n",
    "    y_pred = out[0][0][0]\n",
    "    h = out[1][0]\n",
    "    c = out[2][0]\n",
    "\n",
    "    model.hidden = h\n",
    "    model.cell_values = c\n",
    "\n",
    "    next_z, next_reward, chosen_mu = get_z_from_rnn_output(y_pred)\n",
    "\n",
    "    recon_next_z = model.vae.decoder.predict(np.array([next_z]))[0]\n",
    "\n",
    "    controller_obs = np.concatenate([vae_encoded_obs,model.hidden])\n",
    "    action = model.get_action(controller_obs, t=0, add_noise=0)\n",
    "    #     actions0.append(action[0])\n",
    "    #     actions1.append(action[1])\n",
    "    #     actions2.append(action[2])\n",
    "\n",
    "    #     action = model.activations(action)\n",
    "#     action = [1,1,0]\n",
    "    obs, reward, done, _ = model.env.step(action)\n",
    "    \n",
    "    total_reward+= reward\n",
    "\n",
    "\n",
    "    plt.gca().cla() \n",
    "    plt.imshow( obs)\n",
    "\n",
    "    display.clear_output(wait=True)\n",
    "    display.display(plt.gcf()) \n",
    "    \n",
    "    print(total_reward)\n",
    "    print(total_pseudo_reward)\n",
    "    print(t)\n",
    "    print(action)\n",
    "    t += 1\n",
    "\n",
    "\n",
    "    #     print(action)"
   ]
  },
  {
   "cell_type": "code",
   "execution_count": 17,
   "metadata": {},
   "outputs": [
    {
     "name": "stdout",
     "output_type": "stream",
     "text": [
      "[ 0.8828 -0.4782 -0.4296  1.2763  0.1383 -1.9349 -0.5616 -0.8907  1.4824\n",
      " -0.7008 -0.1686  0.3619 -0.5266  0.1795 -0.433   0.2239  1.5414 -1.1811\n",
      " -0.6485 -0.4002 -1.4639 -0.5649  1.2551 -0.479   1.0175 -0.0756 -0.0032\n",
      " -1.5256  0.1553  0.6366 -0.923   0.5755  0.4016 -0.2257 -0.0307 -0.199\n",
      " -0.4602  0.7989  0.3597 -0.3055 -0.0909 -0.3194  0.3349  0.5282 -0.4594\n",
      " -0.528  -0.4609  0.6389 -0.4908 -0.4653  0.13    0.046  -0.0152  0.0879\n",
      "  0.4261  0.1354  0.1422 -0.3847 -0.224  -0.2174 -0.4784  0.6094 -0.2175\n",
      "  0.5221 -0.7423  0.0124 -0.4075 -0.095   0.4202  0.4558  0.052  -0.3109\n",
      "  0.0675  0.8891 -0.1235  0.6537  0.3593  0.1624  0.0354 -0.578   0.3223\n",
      "  0.2713 -0.3364 -0.3252 -0.3788  0.3623 -0.0722  0.4316  0.8078  0.6124\n",
      " -0.3104  0.3536  0.4791 -0.3628 -0.2487  0.0165 -0.2596 -0.6375 -0.0678\n",
      "  0.2212 -0.1237  0.3834 -0.2706  0.3582  0.2367 -0.0771 -0.0335 -0.159\n",
      "  0.0062 -0.477  -0.4096  0.1154  0.3224 -0.1087 -0.3247  0.0905  0.0348\n",
      "  0.3322  0.3692  0.0083 -0.1193 -0.3824 -0.7829  0.3341  0.3819 -0.6627\n",
      "  0.2612  0.45    0.3825  0.6997 -0.9841  0.3867  0.459   0.1769 -0.3858\n",
      "  0.3616 -0.5531 -0.0885  0.4363  0.3874 -0.3157 -0.5763  0.5791 -0.3281\n",
      " -0.7084 -0.3026  0.5471 -0.1969  0.0396 -0.2737  0.5146 -0.2783  0.0374\n",
      "  0.2973  0.3442  0.6977 -0.2687  0.2319  0.2329  0.889   0.1524 -0.0875\n",
      "  0.1491  0.4521 -0.446  -0.401  -0.1601  0.5018 -0.7484 -0.252  -0.5813\n",
      " -0.0085  0.431  -0.0189 -0.1685 -0.4857  0.4331 -0.1306 -0.0226 -0.3592\n",
      " -0.084   0.007  -0.4883 -0.2255  0.3146  0.4813  0.4961  0.3793 -0.2063\n",
      "  0.3625 -0.4032  0.1026 -0.2716 -0.1732 -0.4267  0.635  -0.273   0.1735\n",
      "  0.0904 -0.5254  0.2775 -0.3637  0.2255 -0.3336 -0.0329  0.33    0.5394\n",
      "  0.2403 -0.2671  0.0323  0.6099  0.5872  0.4055 -0.0038 -0.2022 -0.1007\n",
      " -0.2032 -0.9103  0.0138 -0.3378 -0.4424  0.8072 -0.6527  0.3392 -0.5068\n",
      "  0.1933 -0.1109  0.4    -0.3701  0.3305  0.361  -0.0849 -0.571   0.0414\n",
      " -0.2082  0.4218  0.3601  0.3533 -0.3675  0.4125  0.4297 -0.4955  0.192\n",
      "  0.2487  0.5856 -0.1643 -0.263  -0.0233 -0.0729 -0.5598 -0.2686 -0.2096\n",
      "  0.4933  0.4285  0.5282 -0.474  -0.8333  0.2597 -0.1716  0.3401  0.0591\n",
      " -0.446  -0.051   0.04   -0.4135  0.4281 -0.7785  0.1134  0.7355  0.0367\n",
      "  0.3095 -0.2315 -0.0948  0.0747  0.363  -0.2083 -0.0413  0.3054  0.0081\n",
      "  0.0415 -0.0795  0.442   0.4669  0.1711 -0.2774 -0.5214  0.4764  0.4637]\n"
     ]
    }
   ],
   "source": [
    "print(controller_obs)"
   ]
  },
  {
   "cell_type": "code",
   "execution_count": 18,
   "metadata": {},
   "outputs": [
    {
     "name": "stdout",
     "output_type": "stream",
     "text": [
      "[ 0.3673 -0.2173 -0.0347 -0.192  -0.4902  0.7591  0.4209 -0.3449 -0.1144\n",
      " -0.2961  0.3294  0.5132 -0.4303 -0.5108 -0.4039  0.6775 -0.456  -0.4136\n",
      "  0.1416  0.0411 -0.0333  0.1444  0.3445  0.0961 -0.0622 -0.4031 -0.1458\n",
      " -0.1986 -0.4445  0.5447 -0.2029  0.5505 -0.7194 -0.0168 -0.4268 -0.1077\n",
      "  0.38    0.5141  0.1068 -0.31    0.0525  0.8694 -0.0974  0.6191  0.431\n",
      "  0.262   0.04   -0.5667  0.3717  0.2964 -0.3211 -0.2846 -0.508   0.3991\n",
      " -0.1074  0.4427  0.8137  0.6052 -0.2351  0.3861  0.411  -0.3155 -0.3105\n",
      " -0.077  -0.3127 -0.648  -0.0423  0.1353 -0.0916  0.4302 -0.2465  0.3743\n",
      "  0.235  -0.1636 -0.2471 -0.2186  0.5172 -0.4032 -0.3727  0.1389  0.3427\n",
      "  0.0142 -0.3275  0.0453  0.0366  0.3289  0.3926 -0.0017 -0.0093 -0.3894\n",
      " -0.7768 -0.0353  0.142  -0.6526  0.2089  0.4534  0.3585  0.7039 -0.9796\n",
      "  0.3503  0.4689  0.2849 -0.3771  0.3936 -0.4705 -0.0711  0.3521  0.3256\n",
      " -0.3854 -0.5693  0.549  -0.3924 -0.7024 -0.2901  0.4616 -0.1069  0.0276\n",
      " -0.2458  0.5486 -0.3024  0.0716  0.3739  0.3432  0.6961 -0.3607  0.1172\n",
      "  0.1548  0.8835  0.1967 -0.0529  0.1321  0.3634 -0.6067 -0.335  -0.2033\n",
      "  0.4846 -0.7383 -0.3063 -0.5473  0.0036  0.3746 -0.024  -0.159  -0.4877\n",
      "  0.5038 -0.1274 -0.0519 -0.3495 -0.1015 -0.0173 -0.4721 -0.2317  0.2697\n",
      "  0.5154  0.4457  0.3225 -0.1973  0.3311 -0.4     0.1173 -0.262  -0.1553\n",
      " -0.4528  0.626  -0.276   0.1456  0.0913 -0.5075  0.2416 -0.3093  0.2359\n",
      " -0.3703  0.0046  0.358   0.5224  0.4136 -0.2723  0.1067  0.6154  0.6295\n",
      "  0.3932 -0.0036 -0.2555 -0.195  -0.2023 -0.9041  0.0422 -0.3706 -0.3821\n",
      "  0.8395 -0.6536  0.4484 -0.5581  0.1586 -0.1135  0.3544 -0.3534  0.4546\n",
      "  0.3948 -0.1833 -0.4674  0.1198 -0.2158  0.4897  0.4773  0.362  -0.3876\n",
      "  0.3645  0.4295 -0.3406  0.1817  0.2714  0.6093 -0.1022 -0.2727 -0.0415\n",
      "  0.0178 -0.5046 -0.2404 -0.1918  0.5007  0.3783  0.5599 -0.4587 -0.8619\n",
      "  0.257  -0.1164  0.3406  0.2674 -0.4103 -0.0161  0.0166 -0.3747  0.4263\n",
      " -0.6999  0.2113  0.7993  0.0208  0.2906 -0.2374 -0.0973  0.119   0.3734\n",
      " -0.1956 -0.0282  0.3256  0.0567  0.0501 -0.0818  0.4531  0.4947  0.1915\n",
      " -0.3227 -0.4893  0.3688  0.428 ]\n"
     ]
    }
   ],
   "source": [
    "print(model.hidden)"
   ]
  },
  {
   "cell_type": "code",
   "execution_count": 19,
   "metadata": {},
   "outputs": [
    {
     "data": {
      "text/plain": [
       "[]"
      ]
     },
     "execution_count": 19,
     "metadata": {},
     "output_type": "execute_result"
    }
   ],
   "source": [
    "actions0"
   ]
  },
  {
   "cell_type": "code",
   "execution_count": 20,
   "metadata": {},
   "outputs": [
    {
     "data": {
      "text/plain": [
       "[<matplotlib.lines.Line2D at 0x7f5247b8e748>]"
      ]
     },
     "execution_count": 20,
     "metadata": {},
     "output_type": "execute_result"
    },
    {
     "data": {
      "image/png": "[encoded data removed]",
      "text/plain": [
       "<Figure size 432x288 with 1 Axes>"
      ]
     },
     "metadata": {},
     "output_type": "display_data"
    }
   ],
   "source": [
    "plt.plot(actions0)\n",
    "plt.plot(actions1)\n",
    "plt.plot(actions2)"
   ]
  },
  {
   "cell_type": "code",
   "execution_count": 21,
   "metadata": {},
   "outputs": [
    {
     "data": {
      "text/plain": [
       "array([ 0.3673, -0.2173, -0.0347, -0.192 , -0.4902,  0.7591,  0.4209,\n",
       "       -0.3449, -0.1144, -0.2961], dtype=float32)"
      ]
     },
     "execution_count": 21,
     "metadata": {},
     "output_type": "execute_result"
    }
   ],
   "source": [
    "model.hidden[:10]\n",
    "\n",
    "#######"
   ]
  },
  {
   "cell_type": "code",
   "execution_count": 22,
   "metadata": {},
   "outputs": [
    {
     "data": {
      "text/plain": [
       "array([ 1.4713,  0.8197, -0.0574,  0.5902, -0.1375, -1.5853, -1.0767,\n",
       "        0.1153, -1.1589,  2.243 ,  2.1072, -0.4164,  0.6787, -2.1312,\n",
       "       -0.4161, -0.1348,  0.4867, -1.8644, -0.0855,  0.2217, -1.3514,\n",
       "       -0.6412,  0.2439, -0.2959,  0.5843, -0.3682, -0.211 , -1.2974,\n",
       "       -0.358 ,  1.8151, -1.0622, -0.0549], dtype=float32)"
      ]
     },
     "execution_count": 22,
     "metadata": {},
     "output_type": "execute_result"
    }
   ],
   "source": [
    "vae_encoded_obs"
   ]
  },
  {
   "cell_type": "code",
   "execution_count": 23,
   "metadata": {},
   "outputs": [
    {
     "data": {
      "text/plain": [
       "array([ 0.8828, -0.4782, -0.4296,  1.2763,  0.1383, -1.9349, -0.5616,\n",
       "       -0.8907,  1.4824, -0.7008, -0.1686,  0.3619, -0.5266,  0.1795,\n",
       "       -0.433 ,  0.2239,  1.5414, -1.1811, -0.6485, -0.4002, -1.4639,\n",
       "       -0.5649,  1.2551, -0.479 ,  1.0175, -0.0756, -0.0032, -1.5256,\n",
       "        0.1553,  0.6366, -0.923 ,  0.5755,  0.4016, -0.2257, -0.0307,\n",
       "       -0.199 , -0.4602,  0.7989,  0.3597, -0.3055, -0.0909, -0.3194,\n",
       "        0.3349,  0.5282, -0.4594, -0.528 , -0.4609,  0.6389, -0.4908,\n",
       "       -0.4653,  0.13  ,  0.046 , -0.0152,  0.0879,  0.4261,  0.1354,\n",
       "        0.1422, -0.3847, -0.224 , -0.2174, -0.4784,  0.6094, -0.2175,\n",
       "        0.5221, -0.7423,  0.0124, -0.4075, -0.095 ,  0.4202,  0.4558,\n",
       "        0.052 , -0.3109,  0.0675,  0.8891, -0.1235,  0.6537,  0.3593,\n",
       "        0.1624,  0.0354, -0.578 ,  0.3223,  0.2713, -0.3364, -0.3252,\n",
       "       -0.3788,  0.3623, -0.0722,  0.4316,  0.8078,  0.6124, -0.3104,\n",
       "        0.3536,  0.4791, -0.3628, -0.2487,  0.0165, -0.2596, -0.6375,\n",
       "       -0.0678,  0.2212, -0.1237,  0.3834, -0.2706,  0.3582,  0.2367,\n",
       "       -0.0771, -0.0335, -0.159 ,  0.0062, -0.477 , -0.4096,  0.1154,\n",
       "        0.3224, -0.1087, -0.3247,  0.0905,  0.0348,  0.3322,  0.3692,\n",
       "        0.0083, -0.1193, -0.3824, -0.7829,  0.3341,  0.3819, -0.6627,\n",
       "        0.2612,  0.45  ,  0.3825,  0.6997, -0.9841,  0.3867,  0.459 ,\n",
       "        0.1769, -0.3858,  0.3616, -0.5531, -0.0885,  0.4363,  0.3874,\n",
       "       -0.3157, -0.5763,  0.5791, -0.3281, -0.7084, -0.3026,  0.5471,\n",
       "       -0.1969,  0.0396, -0.2737,  0.5146, -0.2783,  0.0374,  0.2973,\n",
       "        0.3442,  0.6977, -0.2687,  0.2319,  0.2329,  0.889 ,  0.1524,\n",
       "       -0.0875,  0.1491,  0.4521, -0.446 , -0.401 , -0.1601,  0.5018,\n",
       "       -0.7484, -0.252 , -0.5813, -0.0085,  0.431 , -0.0189, -0.1685,\n",
       "       -0.4857,  0.4331, -0.1306, -0.0226, -0.3592, -0.084 ,  0.007 ,\n",
       "       -0.4883, -0.2255,  0.3146,  0.4813,  0.4961,  0.3793, -0.2063,\n",
       "        0.3625, -0.4032,  0.1026, -0.2716, -0.1732, -0.4267,  0.635 ,\n",
       "       -0.273 ,  0.1735,  0.0904, -0.5254,  0.2775, -0.3637,  0.2255,\n",
       "       -0.3336, -0.0329,  0.33  ,  0.5394,  0.2403, -0.2671,  0.0323,\n",
       "        0.6099,  0.5872,  0.4055, -0.0038, -0.2022, -0.1007, -0.2032,\n",
       "       -0.9103,  0.0138, -0.3378, -0.4424,  0.8072, -0.6527,  0.3392,\n",
       "       -0.5068,  0.1933, -0.1109,  0.4   , -0.3701,  0.3305,  0.361 ,\n",
       "       -0.0849, -0.571 ,  0.0414, -0.2082,  0.4218,  0.3601,  0.3533,\n",
       "       -0.3675,  0.4125,  0.4297, -0.4955,  0.192 ,  0.2487,  0.5856,\n",
       "       -0.1643, -0.263 , -0.0233, -0.0729, -0.5598, -0.2686, -0.2096,\n",
       "        0.4933,  0.4285,  0.5282, -0.474 , -0.8333,  0.2597, -0.1716,\n",
       "        0.3401,  0.0591, -0.446 , -0.051 ,  0.04  , -0.4135,  0.4281,\n",
       "       -0.7785,  0.1134,  0.7355,  0.0367,  0.3095, -0.2315, -0.0948,\n",
       "        0.0747,  0.363 , -0.2083, -0.0413,  0.3054,  0.0081,  0.0415,\n",
       "       -0.0795,  0.442 ,  0.4669,  0.1711, -0.2774, -0.5214,  0.4764,\n",
       "        0.4637], dtype=float32)"
      ]
     },
     "execution_count": 23,
     "metadata": {},
     "output_type": "execute_result"
    }
   ],
   "source": [
    "controller_obs"
   ]
  },
  {
   "cell_type": "code",
   "execution_count": null,
   "metadata": {},
   "outputs": [],
   "source": [
    "\n"
   ]
  },
  {
   "cell_type": "code",
   "execution_count": 24,
   "metadata": {},
   "outputs": [
    {
     "data": {
      "text/plain": [
       "array([-0.9832,  1.    ,  0.0004])"
      ]
     },
     "execution_count": 24,
     "metadata": {},
     "output_type": "execute_result"
    }
   ],
   "source": [
    "action"
   ]
  },
  {
   "cell_type": "code",
   "execution_count": null,
   "metadata": {},
   "outputs": [],
   "source": []
  }
 ],
 "metadata": {
  "kernelspec": {
   "display_name": "Python 3",
   "language": "python",
   "name": "python3"
  },
  "language_info": {
   "codemirror_mode": {
    "name": "ipython",
    "version": 3
   },
   "file_extension": ".py",
   "mimetype": "text/x-python",
   "name": "python",
   "nbconvert_exporter": "python",
   "pygments_lexer": "ipython3",
   "version": "3.6.10"
  }
 },
 "nbformat": 4,
 "nbformat_minor": 2
}
